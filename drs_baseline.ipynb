{
 "cells": [
  {
   "cell_type": "code",
   "execution_count": 18,
   "id": "71d770cd-6102-4133-baf4-a9ce7164c1a1",
   "metadata": {},
   "outputs": [],
   "source": [
    "import optuna\n",
    "import gc\n",
    "import re\n",
    "import json\n",
    "import requests\n",
    "import numpy as np\n",
    "import pandas as pd\n",
    "import scipy.io as sio\n",
    "import os\n",
    "import random\n",
    "import argparse\n",
    "import numpy as np\n",
    "import pandas as pd\n",
    "import time\n",
    "import torch\n",
    "import torch.nn as nn\n",
    "import torch.optim as optim\n",
    "import sys\n",
    "from tqdm import tqdm\n",
    "from collections import Counter\n",
    "from collections import defaultdict\n",
    "from logging import getLogger\n",
    "from ast import Global\n",
    "\n",
    "sys.path.append('/root/linghui/drs/TRD-main/daisyRec/')\n",
    "import daisy\n",
    "import imp\n",
    "\n",
    "from daisy.utils.loader import RawDataReader, Preprocessor\n",
    "from daisy.utils.splitter import TestSplitter, ValidationSplitter\n",
    "from daisy.utils.config import init_seed, init_config, init_logger\n",
    "from daisy.utils.metrics import MAP, NDCG, Recall, Precision, HR, MRR\n",
    "from daisy.utils.sampler import BasicNegtiveSampler, SkipGramNegativeSampler, UniqueNegativeSampler\n",
    "from daisy.utils.dataset import AEDataset, BasicDataset, CandidatesDataset, get_dataloader\n",
    "from daisy.utils.utils import get_history_matrix, get_ur, build_candidates_set, ensure_dir, get_inter_matrix\n",
    "\n",
    "from daisy.model.MFRecommender import MF\n",
    "from daisy.model.FMRecommender import FM\n",
    "from daisy.model.NFMRecommender import NFM\n",
    "from daisy.model.NGCFRecommender import NGCF\n",
    "from daisy.model.EASERecommender import EASE\n",
    "from daisy.model.SLiMRecommender import SLiM\n",
    "from daisy.model.VAECFRecommender import VAECF\n",
    "from daisy.model.NeuMFRecommender import NeuMF\n",
    "from daisy.model.PopRecommender import MostPop\n",
    "from daisy.model.KNNCFRecommender import ItemKNNCF\n",
    "from daisy.model.PureSVDRecommender import PureSVD\n",
    "from daisy.model.Item2VecRecommender import Item2Vec\n",
    "from daisy.model.LightGCNRecommender import LightGCN\n",
    "from daisy.utils.metrics import calc_ranking_results\n"
   ]
  },
  {
   "cell_type": "code",
   "execution_count": 19,
   "id": "20c8ccf3-05cd-4c7a-8767-a007fba23d2f",
   "metadata": {},
   "outputs": [],
   "source": [
    "model_config = {\n",
    "    'mostpop': MostPop,\n",
    "    'slim': SLiM,\n",
    "    'itemknn': ItemKNNCF,\n",
    "    'puresvd': PureSVD,\n",
    "    'mf': MF,\n",
    "    'fm': FM,\n",
    "    'ngcf': NGCF,\n",
    "    'neumf': NeuMF,\n",
    "    'nfm': NFM,\n",
    "    'multi-vae': VAECF,\n",
    "    'item2vec': Item2Vec,\n",
    "    'ease': EASE,\n",
    "    'lightgcn': LightGCN,\n",
    "}\n",
    "\n",
    "metrics_config = {\n",
    "    \"recall\": Recall,\n",
    "    \"mrr\": MRR,\n",
    "    \"ndcg\": NDCG,\n",
    "    \"hr\": HR,\n",
    "    \"map\": MAP,\n",
    "    \"precision\": Precision,\n",
    "}\n",
    "\n",
    "tune_params_config = {\n",
    "    'mostpop': [],\n",
    "    'itemknn': ['maxk'],\n",
    "    'puresvd': ['factors'],\n",
    "    'slim': ['alpha', 'elastic'],\n",
    "    'mf': ['num_ng', 'factors', 'lr', 'batch_size', 'reg_1', 'reg_2'],\n",
    "    'fm': ['num_ng', 'factors', 'lr', 'batch_size', 'reg_1', 'reg_2'],\n",
    "    'neumf': ['num_ng', 'factors', 'num_layers', 'dropout', 'lr', 'batch_size', 'reg_1', 'reg_2'],\n",
    "    'nfm': ['num_ng', 'factors', 'num_layers', 'dropout', 'lr', 'batch_size', 'reg_1', 'reg_2'],\n",
    "    'ngcf': ['num_ng', 'factors', 'node_dropout', 'mess_dropout', 'batch_size', 'lr', 'reg_1', 'reg_2'],\n",
    "    'multi-vae': ['latent_dim', 'dropout','batch_size', 'lr', 'anneal_cap'],\n",
    "    'ease': ['reg'],\n",
    "    'item2vec': ['context_window', 'rho', 'lr', 'factors'],\n",
    "    'lightgcn': ['num_ng', 'factors', 'batch_size', 'lr', 'reg_1', 'reg_2', 'num_layers'],\n",
    "}\n",
    "\n",
    "param_type_config = {\n",
    "    'num_layers': 'int',\n",
    "    'maxk': 'int',\n",
    "    'factors': 'int',\n",
    "    'alpha': 'float',\n",
    "    'elastic': 'float',\n",
    "    'num_ng': 'int',\n",
    "    'lr': 'float',\n",
    "    'batch_size': 'int',\n",
    "    'reg_1': 'float',\n",
    "    'reg_2': 'float',\n",
    "    'dropout': 'float',\n",
    "    'node_dropout': 'float',\n",
    "    'mess_dropout': 'float',\n",
    "    'latent_dim': 'int',\n",
    "    'anneal_cap': 'float',\n",
    "    'reg': 'float',\n",
    "    'context_window': 'int',\n",
    "    'rho': 'float'\n",
    "}"
   ]
  },
  {
   "cell_type": "code",
   "execution_count": 35,
   "id": "9f9d3eb5-1d20-45bb-a7ca-67701d9395ec",
   "metadata": {},
   "outputs": [],
   "source": [
    "config = init_config()\n",
    "init_seed(config['seed'], config['reproducibility'])\n",
    "init_logger(config)"
   ]
  },
  {
   "cell_type": "code",
   "execution_count": 36,
   "id": "172d107b-fb02-459a-bcc9-f8207b7cebf5",
   "metadata": {},
   "outputs": [
    {
     "name": "stderr",
     "output_type": "stream",
     "text": [
      "16 Jan 10:22 INFO - {'version': 'daisy_1/', 'gpu': '0', 'seed': 2024, 'reproducibility': True, 'state': None, 'optimization_metric': 'ndcg', 'hyperopt_trail': 20, 'tune_testset': False, 'tune_pack': '{\"lr\": [0.001, 0.005, 0.01], \"reg_1\": [0.000001, 0.00001, 0.0001, 0.001, 0], \"reg_2\": [0.000001, 0.00001, 0.0001, 0.001, 0], \"num_layers\": [2, 3, 4]}', 'algo_name': 'mf', 'data_path': '/data/linghui/', 'save_path': '/data/linghui/drs/', 'res_path': None, 'dataset': 'steam', 'val_method': 'tsbr', 'test_method': 'tsbr', 'fold_num': 1, 'val_size': 0.1, 'test_size': 0.2, 'topk': 50, 'cand_num': 1000, 'sample_method': 'uniform', 'sample_ratio': 0, 'num_ng': 4, 'batch_size': 1024, 'loss_type': 'BPR', 'init_method': 'default', 'optimizer': 'default', 'early_stop': True, 'prepro': '10filter', 'level': 'u', 'positive_threshold': 1.0, 'UID_NAME': 'user', 'IID_NAME': 'item', 'INTER_NAME': 'label', 'TID_NAME': 'timestamp', 'binary_inter': True, 'metrics': ['recall', 'mrr', 'ndcg', 'hit', 'precision'], 'train_base_ratio': 0.3, 'train_rl_ratio': 0.2, 'test_stage': 5, 'fine_tune': 'no', 'debias_method': 'cnif', 'weight': 10, 'add_reg': 'yes', 'burnin': 'no', 'save': 0, 'factors': 100, 'epochs': 20, 'lr': 0.01, 'reg_1': 1e-06, 'reg_2': 1e-06}\n"
     ]
    }
   ],
   "source": [
    "config['debias_method'] = 'cnif'\n",
    "config['weight'] = 10\n",
    "\n",
    "logger = getLogger()\n",
    "logger.info(config)\n",
    "config['logger'] = logger\n"
   ]
  },
  {
   "cell_type": "code",
   "execution_count": 21,
   "id": "369ca529-f3a7-415a-9579-01ec9361f536",
   "metadata": {},
   "outputs": [
    {
     "data": {
      "text/plain": [
       "10"
      ]
     },
     "execution_count": 21,
     "metadata": {},
     "output_type": "execute_result"
    }
   ],
   "source": [
    "config['weight']"
   ]
  },
  {
   "cell_type": "code",
   "execution_count": 37,
   "id": "c478267e-4441-462f-a687-8f231ad93add",
   "metadata": {},
   "outputs": [],
   "source": [
    "save_path = config['save_path'] + config['version']\n",
    "ensure_dir(save_path)\n",
    "\n",
    "file_path = save_path + f'{config[\"dataset\"]}/'\n",
    "ensure_dir(file_path)\n",
    "\n",
    "saved_data_path = file_path + 'data/'\n",
    "ensure_dir(saved_data_path)\n",
    "\n",
    "saved_result_path = file_path + f'{config[\"algo_name\"]}/'\n",
    "ensure_dir(saved_result_path)\n",
    "\n",
    "saved_model_path = saved_result_path + 'model/'\n",
    "ensure_dir(saved_model_path)\n",
    "\n",
    "saved_rec_path = saved_result_path + 'rec_list/'\n",
    "ensure_dir(saved_rec_path)\n",
    "\n",
    "saved_metric_path = saved_result_path + 'metric/'\n",
    "ensure_dir(saved_metric_path)"
   ]
  },
  {
   "cell_type": "code",
   "execution_count": 39,
   "id": "0e538ab7-5baf-4bf0-b606-169d7a92f10e",
   "metadata": {},
   "outputs": [
    {
     "name": "stdout",
     "output_type": "stream",
     "text": [
      "user number: 79216  item number: 14258\n"
     ]
    },
    {
     "name": "stderr",
     "output_type": "stream",
     "text": [
      "/opt/conda/lib/python3.8/site-packages/numpy/lib/arraysetops.py:580: FutureWarning: elementwise comparison failed; returning scalar instead, but in the future will perform elementwise comparison\n",
      "  mask |= (ar1 == a)\n"
     ]
    }
   ],
   "source": [
    "ui_num = np.load(saved_data_path + 'ui_cate.npy')\n",
    "# config['user_num'] = 1411\n",
    "# config['item_num'] = 3317\n",
    "config['user_num'] = ui_num[0]\n",
    "config['item_num'] = ui_num[1]\n",
    "print(f\"user number: {config['user_num']}  item number: {config['item_num']}\")\n",
    "# config['cate_num'] = ui_num[2]\n",
    "# print(f\"user number: {config['user_num']}  item number: {config['item_num']}  cate number: {config['cate_num']}\")\n",
    "\n",
    "train_base_set = pd.read_csv(saved_data_path + 'train_base_set.csv', index_col=0)\n",
    "# train_base_samples = np.load(saved_data_path + 'train_base_samples.npy')\n",
    "\n",
    "train_total_set = pd.read_csv(saved_data_path + 'train_total_set.csv', index_col=0)\n",
    "train_total_samples = np.load(saved_data_path + 'train_total_samples.npy')"
   ]
  },
  {
   "cell_type": "code",
   "execution_count": 7,
   "id": "5dd392e9-b94f-4466-9192-9ad47857fec3",
   "metadata": {},
   "outputs": [
    {
     "data": {
      "text/plain": [
       "array([[1221,    0,  941],\n",
       "       [1221,    0,  922],\n",
       "       [1221,    0, 1809],\n",
       "       [1221,    0,  596],\n",
       "       [1221,    1,  265]], dtype=int32)"
      ]
     },
     "execution_count": 7,
     "metadata": {},
     "output_type": "execute_result"
    }
   ],
   "source": [
    "train_total_samples[:5]"
   ]
  },
  {
   "cell_type": "code",
   "execution_count": 28,
   "id": "cbe203ee-4074-4987-bee9-7196eae8fc13",
   "metadata": {},
   "outputs": [],
   "source": [
    "train_set = train_total_set\n",
    "train_total_ur = get_ur(train_total_set)\n",
    "config['train_ur'] = train_total_ur\n",
    "train_samples = train_total_samples\n",
    "s_time = time.time()\n",
    "if config['algo_name'].lower() in ['itemknn', 'puresvd', 'slim', 'mostpop', 'ease']:\n",
    "    model = model_config[config['algo_name']](config)\n",
    "    # model.fit(train_set)\n",
    "\n",
    "elif config['algo_name'].lower() in ['mf', 'fm', 'neumf', 'nfm', 'ngcf', 'lightgcn']:\n",
    "    if config['algo_name'].lower() in ['lightgcn', 'ngcf']:\n",
    "        config['inter_matrix'] = get_inter_matrix(train_set, config)\n",
    "    model = model_config[config['algo_name']](config)\n",
    "    train_dataset = BasicDataset(train_samples)\n",
    "    train_loader = get_dataloader(train_dataset, batch_size=config['batch_size'], shuffle=True, num_workers=4)\n",
    "    # model.fit(train_loader)"
   ]
  },
  {
   "cell_type": "code",
   "execution_count": 29,
   "id": "50285efc-681a-403b-83c0-0406e1ece29d",
   "metadata": {},
   "outputs": [],
   "source": [
    "# def cgf_topk_loss(model_cgf, users, items, warm_items, cold_items, top_score):\n",
    "#     item_num = len(items)\n",
    "#     warm_nums = len(warm_items)\n",
    "#     cold_nums = len(cold_items)\n",
    "    \n",
    "#     # 将数据移动到 GPU\n",
    "#     model_cgf.cuda()\n",
    "#     users = torch.tensor(users).cuda()\n",
    "#     items = torch.tensor(items).cuda()\n",
    "    \n",
    "#     # 获取用户和物品的嵌入\n",
    "#     user_embed = model_cgf.embed_user(users)\n",
    "#     item_embed = model_cgf.embed_item(items)\n",
    "    \n",
    "#     # 计算分数矩阵\n",
    "#     score_mat = torch.mm(item_embed, user_embed.t())\n",
    "    \n",
    "#     # 获取 top-k 分数和索引\n",
    "#     _, item_index = score_mat.topk(top_score, dim=0)\n",
    "    \n",
    "#     # 使用掩码操作替代 scatter_ 和 gather\n",
    "#     mask = torch.zeros_like(score_mat).cuda()\n",
    "#     mask.scatter_(0, item_index, 1)  # 创建一个掩码，标记 top-k 的位置\n",
    "#     score_top = score_mat * mask  # 通过掩码提取 top-k 分数\n",
    "    \n",
    "#     # 计算期望分数（使用对数归一化）\n",
    "#     exp_item_list = score_top.mean(dim=1)\n",
    "#     exp_item_list = exp_item_list / exp_item_list.sum()\n",
    "    \n",
    "#     # 批量计算权重\n",
    "#     weight_list = torch.zeros(item_num).cuda()\n",
    "#     weight_list[:warm_nums] = (warm_nums - torch.arange(warm_nums).cuda()) / warm_nums\n",
    "#     weight_list[warm_nums:] = -(1 + (torch.arange(cold_nums).cuda() * (warm_nums - 1) / (cold_nums - 1))) / cold_nums\n",
    "    \n",
    "#     # 计算损失\n",
    "#     cgf_loss = (exp_item_list * weight_list).sum()\n",
    "    \n",
    "#     return cgf_loss\n",
    "\n",
    "def cgf_topk_loss(model_cgf, users, items, config):\n",
    "    warm_items = config['warm_item_list']\n",
    "    cold_items = config['cold_item_list']\n",
    "    item_num = len(items)\n",
    "    warm_nums = len(warm_items)\n",
    "    cold_nums = len(cold_items)\n",
    "    top_score = config['topk']\n",
    "    print(f'all item num:{item_num}, warm_num:{warm_nums}, cold_num:{cold_nums}')\n",
    "    \n",
    "    # 将数据移动到 GPU\n",
    "    model_cgf.cuda()\n",
    "    users = torch.tensor(users).cuda()\n",
    "    items = torch.tensor(items).cuda()\n",
    "    \n",
    "    # 获取用户和物品的嵌入\n",
    "    if config['algo_name'] == 'mf':\n",
    "        user_embed = model_cgf.embed_user(users)\n",
    "        item_embed = model_cgf.embed_item(items)\n",
    "    elif config['algo_name'] == 'lightgcn':\n",
    "        user_emb_all, item_emb_all = model.forward()\n",
    "        user_emb = user_emb_all[users]\n",
    "        item_emb = item_emb_all[items]\n",
    "    \n",
    "    # 计算分数矩阵\n",
    "    score_mat = torch.mm(item_embed, user_embed.t())\n",
    "    # score_mat = F.softmax(score_mat, dim=0)\n",
    "    \n",
    "    # 获取 top-k 分数和索引\n",
    "    _, item_index = score_mat.topk(top_score, dim=0)\n",
    "    \n",
    "    # 使用掩码操作替代 scatter_ 和 gather\n",
    "    mask = torch.zeros_like(score_mat).cuda()\n",
    "    mask.scatter_(0, item_index, 1)  # 创建一个掩码，标记 top-k 的位置\n",
    "    score_top = score_mat * mask  # 通过掩码提取 top-k 分数\n",
    "    \n",
    "    # 计算期望分数（使用对数归一化）\n",
    "    exp_item_list = score_top.mean(dim=1)\n",
    "    exp_item_list = exp_item_list / exp_item_list.sum()\n",
    "    \n",
    "    # 批量计算权重\n",
    "    weight_list = torch.zeros(item_num).cuda()\n",
    "    weight_list[:warm_nums] = (warm_nums - torch.arange(warm_nums).cuda()) / warm_nums\n",
    "    weight_list[warm_nums:] = -(1 + (torch.arange(cold_nums).cuda() * (warm_nums - 1) / (cold_nums - 1))) / cold_nums\n",
    "    \n",
    "    # 计算损失\n",
    "    cgf_loss = (exp_item_list * weight_list).sum()\n",
    "    \n",
    "    return cgf_loss"
   ]
  },
  {
   "cell_type": "code",
   "execution_count": 30,
   "id": "454779d8-fff6-43b6-9a54-91e79226b3b8",
   "metadata": {},
   "outputs": [],
   "source": [
    "def pcc_train(model_here, train_data, item_pop_dict, config):\n",
    "    data2 = train_data.copy()\n",
    "    \n",
    "    data2['user'] = data2['user'].apply(lambda x : int(x))\n",
    "    data2['item'] = data2['item'].apply(lambda x : int(x))    \n",
    "        \n",
    "    filter_users = data2.user.value_counts()[data2.user.value_counts() > 1].index\n",
    "    data2 = data2[data2.user.isin(filter_users)]\n",
    "    data2 = data2.reset_index()[['user', 'item']]\n",
    "    \n",
    "    user_num = len(data2.user.unique())\n",
    "    data_len = data2.shape[0]\n",
    "    frac = 50\n",
    "    frac_user_num = int(data_len/frac)\n",
    "    \n",
    "    predictions_list = torch.tensor([]).cuda()\n",
    "    \n",
    "    model_here.cuda()\n",
    "    \n",
    "    for itr in range(frac):\n",
    "        tmp = data2.iloc[ (frac_user_num*itr) : (frac_user_num*(itr+1)) ].values    \n",
    "        user = tmp[:, 0]\n",
    "        user = user.astype(np.int32)        \n",
    "        user = torch.from_numpy(user).cuda()\n",
    "        item = tmp[:, 1]\n",
    "        item = item.astype(np.int32)        \n",
    "        item = torch.from_numpy(item).cuda()\n",
    "        if config['algo_name'] == 'mf':\n",
    "            predictions = model_here(user, item)\n",
    "        elif config['algo_name'] == 'lightgcn':\n",
    "            embed_user = model.embed_user(user)\n",
    "            embed_item = model.embed_item(item)\n",
    "            predictions = (embed_user * embed_item).sum(dim=-1)\n",
    "        \n",
    "        predictions_list = torch.hstack((predictions_list, predictions))\n",
    "\n",
    "        \n",
    "        if itr+1 == frac:\n",
    "            tmp = data2.iloc[ (frac_user_num*(itr+1)):].values    \n",
    "            user = tmp[:, 0]\n",
    "            user = user.astype(np.int32)        \n",
    "            user = torch.from_numpy(user).cuda()\n",
    "            item = tmp[:, 1]\n",
    "            item = item.astype(np.int32)        \n",
    "            item = torch.from_numpy(item).cuda()\n",
    "\n",
    "            if config['algo_name'] == 'mf':\n",
    "                predictions = model_here(user, item)\n",
    "            elif config['algo_name'] == 'lightgcn':\n",
    "                embed_user = model.embed_user(user)\n",
    "                embed_item = model.embed_item(item)\n",
    "                predictions = (embed_user * embed_item).sum(dim=-1)\n",
    "            predictions_list = torch.hstack((predictions_list, predictions))\n",
    "\n",
    "    # item_pop_dict = dict(item_pop.values)\n",
    "    data2['item_pop_count'] = data2['item'].map(item_pop_dict)            \n",
    "        \n",
    "    values = predictions_list.reshape(-1, 1)\n",
    "    item_pop_count = data2.item_pop_count.values\n",
    "    item_pop_count = item_pop_count.astype(np.int32)\n",
    "    item_pop_count = torch.from_numpy(item_pop_count).float().cuda()\n",
    "    \n",
    "    \n",
    "    X = values\n",
    "    Y = item_pop_count # item pop\n",
    "    \n",
    "    # print('size of X: {}'.format(X.element_size() * X.numel()))\n",
    "    # print('size of Y: {}'.format(Y.element_size() * Y.numel()))\n",
    "    X = X.view([1, -1])\n",
    "    Y = Y.view([1, -1])\n",
    "    pcc = ((X - X.mean())*(Y - Y.mean())).sum() / ((X - X.mean())*(X- X.mean())).sum().sqrt() / ((Y - Y.mean())*(Y- Y.mean())).sum().sqrt()    \n",
    "    \n",
    "    return pcc\n",
    "\n",
    "def calculate_loss(sample, pos_scores, neg_scores, pos, neg, config):\n",
    "    item_pop_train_dict = config['item_pop_train_dict']\n",
    "    warm_item_train = config['warm_item_list']\n",
    "    cold_item_train = config['cold_item_list']\n",
    "    acc_w = config['weight']\n",
    "    pop_w = 1 - acc_w\n",
    "    \"\"\"计算损失\"\"\"\n",
    "    if sample == 'bpr':\n",
    "        return -torch.log(torch.sigmoid(pos_scores - neg_scores)).mean(), None\n",
    "    elif sample in ['posneg']:\n",
    "        acc_loss = -torch.log(torch.sigmoid(pos_scores - neg_scores)).mean() / 2\n",
    "        pop_loss = -torch.log(1 - torch.tanh(pos_scores + neg_scores).abs()).mean() / 2\n",
    "        return acc_loss * acc_w + pop_loss * pop_w, (acc_loss.item(), pop_loss.item())\n",
    "    elif sample in ['pd']:\n",
    "        pos_weight = torch.tensor([item_pop_train_dict[item.item()] for item in pos], device=pos.device)\n",
    "        neg_weight = torch.tensor([item_pop_train_dict[item.item()] for item in neg], device=neg.device)\n",
    "        m = nn.ELU()\n",
    "        return -torch.log(torch.sigmoid((m(pos_scores) + 1.0) * pos_weight ** acc_w - (m(neg_scores) + 1.0) * neg_weight ** acc_w)).mean(), None\n",
    "    # elif sample == 'ips':\n",
    "    #     pos_weight = torch.tensor([1.0 / item_pop_train_dict[item.item()] for item in pos], device=pos.device)\n",
    "    #     neg_weight = torch.tensor([1.0 / item_pop_train_dict[item.item()] for item in neg], device=neg.device)\n",
    "    #     return -torch.log(torch.sigmoid(pos_scores) * pos_weight + torch.sigmoid(1 - neg_scores) * neg_weight).mean(), None\n",
    "    elif sample == 'pearson':\n",
    "        return -torch.log(torch.sigmoid(pos_scores - neg_scores)).mean(), None\n",
    "    elif sample == 'pearson_new':\n",
    "        acc_loss = -torch.log(torch.sigmoid(pos_scores - neg_scores)).mean()\n",
    "        pearson_loss = pcc_loss(pos, pos_scores, item_pop_train_dict)\n",
    "        return acc_loss + pop_w * pearson_loss, (acc_loss.item(), pearson_loss.item())\n",
    "    else:\n",
    "        raise ValueError(f\"Unsupported sample method: {sample}\")\n",
    "\n",
    "def calculate_regularization(model, user, pos, neg, reg_1, reg_2, batch_size):\n",
    "    \"\"\"计算正则化项\"\"\"\n",
    "    user_emb = model.embed_user(user)\n",
    "    pos_emb = model.embed_item(pos)\n",
    "    neg_emb = model.embed_item(neg)\n",
    "    reg = (reg_1 * (torch.norm(user_emb) ** 2) + reg_2 *(torch.norm(pos_emb) ** 2 + torch.norm(neg_emb) ** 2)) / 3 / batch_size\n",
    "    return reg\n",
    "\n",
    "def train_baseline_model(model, train_loader, train_set, config, device='cuda'):\n",
    "    \"\"\"训练函数\"\"\"\n",
    "    item_pop_train_dict = config['item_pop_train_dict']\n",
    "    warm_item_train = config['warm_item_list']\n",
    "    cold_item_train = config['cold_item_list']\n",
    "    optimizer = optim.Adam(model.parameters(), lr=config['lr'])\n",
    "    weight = config['weight']\n",
    "    \n",
    "    # 训练循环\n",
    "    for epoch in range(config['epochs']):\n",
    "        print(f'Epoch {epoch + 1}/{config[\"epochs\"]}')\n",
    "        model.train()\n",
    "        model.to(device)\n",
    "        \n",
    "        if config['debias_method'] == 'cnif':\n",
    "            config['burnin'] = 'yes'\n",
    "        # 动态选择采样方法\n",
    "        sample = 'bpr' if epoch < 10 and config['burnin'] == 'yes' else config['debias_method']\n",
    "\n",
    "        # 遍历数据加载器\n",
    "        if sample == 'cnif':\n",
    "            for i in range(10):\n",
    "                model.zero_grad()\n",
    "                # users = np.array(0, user_nums, sample_user)\n",
    "                # if sample == 'cgf_topk':\n",
    "                #     print('train items...')\n",
    "                #     users = np.array(range(train_user_nums))\n",
    "                #     items = np.array(range(train_item_nums))\n",
    "                users = np.array(range(config['user_num']))\n",
    "                items = np.array(range(config['item_num']))\n",
    "                cgf_loss = cgf_topk_loss(model, users, items, config['warm_item_list'], config['cold_item_list'], config['topk'])   \n",
    "                loss = weight * ((cgf_loss - 0.3430)**2)\n",
    "                print(f'cgf_loss of epoch : {cgf_loss.item()}') \n",
    "                print(f'loss of epoch : {loss.item()}')  \n",
    "                loss.backward()\n",
    "                optimizer.step()\n",
    "        else:\n",
    "            count = 0\n",
    "            for user, pos1, neg1 in tqdm(train_loader, desc='Training'):\n",
    "                # 将数据移动到设备\n",
    "                user = user.to(device)\n",
    "                pos = pos1.to(device)\n",
    "                neg = neg1.to(device)\n",
    "\n",
    "                # 清零梯度\n",
    "                optimizer.zero_grad()\n",
    "\n",
    "                # 计算 pos_score 和 neg_score\n",
    "                if config['algo_name'] == 'mf':\n",
    "                    pos_scores = model(user, pos)\n",
    "                    neg_scores = model(user, neg)\n",
    "                elif config['algo_name'] == 'lightgcn':\n",
    "                    embed_user = model.embed_user(user)\n",
    "                    embed_pos = model.embed_item(pos)\n",
    "                    embed_neg = model.embed_item(neg)\n",
    "                    pos_scores = (embed_user * embed_pos).sum(dim=-1)\n",
    "                    neg_scores = (embed_user * embed_neg).sum(dim=-1)\n",
    "\n",
    "                # 计算损失\n",
    "                loss, extra_loss_info = calculate_loss(sample, pos_scores, neg_scores, pos, neg, config)\n",
    "\n",
    "                # 添加正则化项\n",
    "                if config['add_reg'] == 'yes':\n",
    "                    loss += calculate_regularization(model, user, pos, neg, config['reg_1'], config['reg_2'], config['batch_size'])\n",
    "\n",
    "                # 反向传播和优化\n",
    "                loss.backward()\n",
    "                optimizer.step()\n",
    "\n",
    "                # 打印损失信息\n",
    "                if count % 1000 == 0:\n",
    "                    if extra_loss_info:\n",
    "                        print(f'Loss: {loss.item()}, Extra acc Loss: {extra_loss_info[0]}, Extra pop Loss: {extra_loss_info[1]}')\n",
    "                count = count + 1\n",
    "            if sample == 'pearson':\n",
    "                pcc = pcc_train(model, train_set, item_pop_train_dict, config) \n",
    "                loss = weight * (pcc**2)\n",
    "                print(f'pcc loss of epoch : {pcc.item()}')\n",
    "                print(f'loss of epoch : {loss.item()}')\n",
    "                loss.backward()\n",
    "                optimizer.step()\n",
    "\n",
    "    return model"
   ]
  },
  {
   "cell_type": "code",
   "execution_count": 31,
   "id": "e6d04547-1870-44d2-91cf-90d4e8a9e7ff",
   "metadata": {},
   "outputs": [],
   "source": [
    "item_pop_train = pd.read_csv(saved_data_path + 'item_pop_train.csv',index_col=0)\n",
    "item_pop_train_dict = dict(list(zip(item_pop_train.item, item_pop_train.train_counts)))"
   ]
  },
  {
   "cell_type": "code",
   "execution_count": 40,
   "id": "c7e76e88-879e-400f-b590-f65ce5d1fea3",
   "metadata": {},
   "outputs": [],
   "source": [
    "warm_item_list = np.load(saved_data_path + 'warm_item_list.npy')\n",
    "cold_item_list = np.load(saved_data_path + 'cold_item_list.npy')\n",
    "config['warm_item_list'] = warm_item_list\n",
    "config['cold_item_list'] = cold_item_list\n",
    "config['item_pop_train_dict'] = item_pop_train_dict"
   ]
  },
  {
   "cell_type": "code",
   "execution_count": 41,
   "id": "e4261ac5-fc05-4c6a-adf9-e3676180cea4",
   "metadata": {},
   "outputs": [
    {
     "data": {
      "text/plain": [
       "4457"
      ]
     },
     "execution_count": 41,
     "metadata": {},
     "output_type": "execute_result"
    }
   ],
   "source": [
    "len(warm_item_list)"
   ]
  },
  {
   "cell_type": "code",
   "execution_count": 42,
   "id": "7afff42d-f1d0-4152-9af8-d0521990f32f",
   "metadata": {},
   "outputs": [
    {
     "data": {
      "text/plain": [
       "9801"
      ]
     },
     "execution_count": 42,
     "metadata": {},
     "output_type": "execute_result"
    }
   ],
   "source": [
    "len(cold_item_list)"
   ]
  },
  {
   "cell_type": "code",
   "execution_count": 14,
   "id": "0905650c-675d-4089-b698-8aefa4d73599",
   "metadata": {},
   "outputs": [
    {
     "data": {
      "text/plain": [
       "MF(\n",
       "  (embed_user): Embedding(1411, 100)\n",
       "  (embed_item): Embedding(3317, 100)\n",
       ")"
      ]
     },
     "execution_count": 14,
     "metadata": {},
     "output_type": "execute_result"
    }
   ],
   "source": [
    "model"
   ]
  },
  {
   "cell_type": "code",
   "execution_count": 15,
   "id": "889bce2d-682d-4455-8d89-5b2f01019bb2",
   "metadata": {},
   "outputs": [
    {
     "name": "stdout",
     "output_type": "stream",
     "text": [
      "Epoch 1/20\n"
     ]
    },
    {
     "name": "stderr",
     "output_type": "stream",
     "text": [
      "Training: 100%|██████████| 2875/2875 [00:14<00:00, 205.24it/s]\n"
     ]
    },
    {
     "name": "stdout",
     "output_type": "stream",
     "text": [
      "Epoch 2/20\n"
     ]
    },
    {
     "name": "stderr",
     "output_type": "stream",
     "text": [
      "Training: 100%|██████████| 2875/2875 [00:14<00:00, 201.59it/s]\n"
     ]
    },
    {
     "name": "stdout",
     "output_type": "stream",
     "text": [
      "Epoch 3/20\n"
     ]
    },
    {
     "name": "stderr",
     "output_type": "stream",
     "text": [
      "Training: 100%|██████████| 2875/2875 [00:13<00:00, 205.38it/s]\n"
     ]
    },
    {
     "name": "stdout",
     "output_type": "stream",
     "text": [
      "Epoch 4/20\n"
     ]
    },
    {
     "name": "stderr",
     "output_type": "stream",
     "text": [
      "Training: 100%|██████████| 2875/2875 [00:14<00:00, 204.90it/s]\n"
     ]
    },
    {
     "name": "stdout",
     "output_type": "stream",
     "text": [
      "Epoch 5/20\n"
     ]
    },
    {
     "name": "stderr",
     "output_type": "stream",
     "text": [
      "Training: 100%|██████████| 2875/2875 [00:14<00:00, 205.22it/s]\n"
     ]
    },
    {
     "name": "stdout",
     "output_type": "stream",
     "text": [
      "Epoch 6/20\n"
     ]
    },
    {
     "name": "stderr",
     "output_type": "stream",
     "text": [
      "Training: 100%|██████████| 2875/2875 [00:14<00:00, 202.85it/s]\n"
     ]
    },
    {
     "name": "stdout",
     "output_type": "stream",
     "text": [
      "Epoch 7/20\n"
     ]
    },
    {
     "name": "stderr",
     "output_type": "stream",
     "text": [
      "Training: 100%|██████████| 2875/2875 [00:14<00:00, 203.62it/s]\n"
     ]
    },
    {
     "name": "stdout",
     "output_type": "stream",
     "text": [
      "Epoch 8/20\n"
     ]
    },
    {
     "name": "stderr",
     "output_type": "stream",
     "text": [
      "Training: 100%|██████████| 2875/2875 [00:14<00:00, 198.81it/s]\n"
     ]
    },
    {
     "name": "stdout",
     "output_type": "stream",
     "text": [
      "Epoch 9/20\n"
     ]
    },
    {
     "name": "stderr",
     "output_type": "stream",
     "text": [
      "Training: 100%|██████████| 2875/2875 [00:14<00:00, 194.17it/s]\n"
     ]
    },
    {
     "name": "stdout",
     "output_type": "stream",
     "text": [
      "Epoch 10/20\n"
     ]
    },
    {
     "name": "stderr",
     "output_type": "stream",
     "text": [
      "Training: 100%|██████████| 2875/2875 [00:14<00:00, 204.99it/s]\n"
     ]
    },
    {
     "name": "stdout",
     "output_type": "stream",
     "text": [
      "Epoch 11/20\n",
      "cgf_loss of epoch : 0.46597808599472046\n",
      "loss of epoch : 0.15123611688613892\n",
      "cgf_loss of epoch : 0.4641956388950348\n",
      "loss of epoch : 0.14688384532928467\n",
      "cgf_loss of epoch : 0.46067672967910767\n",
      "loss of epoch : 0.1384781450033188\n",
      "cgf_loss of epoch : 0.4559134244918823\n",
      "loss of epoch : 0.1274944245815277\n",
      "cgf_loss of epoch : 0.44987350702285767\n",
      "loss of epoch : 0.11421947926282883\n",
      "cgf_loss of epoch : 0.4430917203426361\n",
      "loss of epoch : 0.10018353164196014\n",
      "cgf_loss of epoch : 0.43525826930999756\n",
      "loss of epoch : 0.08511588722467422\n",
      "cgf_loss of epoch : 0.4271950423717499\n",
      "loss of epoch : 0.07088805735111237\n",
      "cgf_loss of epoch : 0.4188545346260071\n",
      "loss of epoch : 0.057539112865924835\n",
      "cgf_loss of epoch : 0.41012030839920044\n",
      "loss of epoch : 0.045051366090774536\n",
      "Epoch 12/20\n",
      "cgf_loss of epoch : 0.40156492590904236\n",
      "loss of epoch : 0.03429851308465004\n",
      "cgf_loss of epoch : 0.39288848638534546\n",
      "loss of epoch : 0.024888616055250168\n",
      "cgf_loss of epoch : 0.38400405645370483\n",
      "loss of epoch : 0.016813330352306366\n",
      "cgf_loss of epoch : 0.37634527683258057\n",
      "loss of epoch : 0.01111907884478569\n",
      "cgf_loss of epoch : 0.3689589500427246\n",
      "loss of epoch : 0.006738673429936171\n",
      "cgf_loss of epoch : 0.3621002435684204\n",
      "loss of epoch : 0.003648195182904601\n",
      "cgf_loss of epoch : 0.3553580045700073\n",
      "loss of epoch : 0.0015272039454430342\n",
      "cgf_loss of epoch : 0.3493621051311493\n",
      "loss of epoch : 0.0004047644615639001\n",
      "cgf_loss of epoch : 0.3439800441265106\n",
      "loss of epoch : 9.604967999621294e-06\n",
      "cgf_loss of epoch : 0.3393322825431824\n",
      "loss of epoch : 0.00013452113489620388\n",
      "Epoch 13/20\n",
      "cgf_loss of epoch : 0.3347293734550476\n",
      "loss of epoch : 0.0006840317510068417\n",
      "cgf_loss of epoch : 0.3310840129852295\n",
      "loss of epoch : 0.001419906155206263\n",
      "cgf_loss of epoch : 0.3279384970664978\n",
      "loss of epoch : 0.002268487121909857\n",
      "cgf_loss of epoch : 0.3253161907196045\n",
      "loss of epoch : 0.003127169329673052\n",
      "cgf_loss of epoch : 0.32308804988861084\n",
      "loss of epoch : 0.003964855335652828\n",
      "cgf_loss of epoch : 0.32142210006713867\n",
      "loss of epoch : 0.004656055476516485\n",
      "cgf_loss of epoch : 0.32032275199890137\n",
      "loss of epoch : 0.005142573267221451\n",
      "cgf_loss of epoch : 0.31936949491500854\n",
      "loss of epoch : 0.005584005266427994\n",
      "cgf_loss of epoch : 0.31884169578552246\n",
      "loss of epoch : 0.005836234427988529\n",
      "cgf_loss of epoch : 0.3186508119106293\n",
      "loss of epoch : 0.005928826984018087\n",
      "Epoch 14/20\n",
      "cgf_loss of epoch : 0.3187916576862335\n",
      "loss of epoch : 0.005860435776412487\n",
      "cgf_loss of epoch : 0.31922537088394165\n",
      "loss of epoch : 0.005652327556163073\n",
      "cgf_loss of epoch : 0.31987160444259644\n",
      "loss of epoch : 0.005349224433302879\n",
      "cgf_loss of epoch : 0.32072412967681885\n",
      "loss of epoch : 0.004962141625583172\n",
      "cgf_loss of epoch : 0.3219574987888336\n",
      "loss of epoch : 0.004427866544574499\n",
      "cgf_loss of epoch : 0.32321977615356445\n",
      "loss of epoch : 0.003912570420652628\n",
      "cgf_loss of epoch : 0.32445698976516724\n",
      "loss of epoch : 0.0034384303726255894\n",
      "cgf_loss of epoch : 0.32578128576278687\n",
      "loss of epoch : 0.0029648395720869303\n",
      "cgf_loss of epoch : 0.3272443115711212\n",
      "loss of epoch : 0.0024824156425893307\n",
      "cgf_loss of epoch : 0.3287035822868347\n",
      "loss of epoch : 0.002043874002993107\n",
      "Epoch 15/20\n",
      "cgf_loss of epoch : 0.3300895392894745\n",
      "loss of epoch : 0.0016667986055836082\n",
      "cgf_loss of epoch : 0.3316124677658081\n",
      "loss of epoch : 0.0012967577204108238\n",
      "cgf_loss of epoch : 0.3329991102218628\n",
      "loss of epoch : 0.0010001768823713064\n",
      "cgf_loss of epoch : 0.3345121741294861\n",
      "loss of epoch : 0.0007204309804365039\n",
      "cgf_loss of epoch : 0.3357558250427246\n",
      "loss of epoch : 0.0005247799563221633\n",
      "cgf_loss of epoch : 0.3370962142944336\n",
      "loss of epoch : 0.00034854625118896365\n",
      "cgf_loss of epoch : 0.3382686972618103\n",
      "loss of epoch : 0.0002238517627120018\n",
      "cgf_loss of epoch : 0.33960843086242676\n",
      "loss of epoch : 0.000115027061838191\n",
      "cgf_loss of epoch : 0.34084317088127136\n",
      "loss of epoch : 4.651889321394265e-05\n",
      "cgf_loss of epoch : 0.34184104204177856\n",
      "loss of epoch : 1.343171334156068e-05\n",
      "Epoch 16/20\n",
      "cgf_loss of epoch : 0.34270256757736206\n",
      "loss of epoch : 8.846292303132941e-07\n",
      "cgf_loss of epoch : 0.3435056805610657\n",
      "loss of epoch : 2.5571812329872046e-06\n",
      "cgf_loss of epoch : 0.34425413608551025\n",
      "loss of epoch : 1.5728704966022633e-05\n",
      "cgf_loss of epoch : 0.3449034094810486\n",
      "loss of epoch : 3.6229874240234494e-05\n",
      "cgf_loss of epoch : 0.3455144762992859\n",
      "loss of epoch : 6.322617264231667e-05\n",
      "cgf_loss of epoch : 0.3460095524787903\n",
      "loss of epoch : 9.057438001036644e-05\n",
      "cgf_loss of epoch : 0.346360445022583\n",
      "loss of epoch : 0.00011292626732029021\n",
      "cgf_loss of epoch : 0.3467406630516052\n",
      "loss of epoch : 0.00013992599269840866\n",
      "cgf_loss of epoch : 0.34702068567276\n",
      "loss of epoch : 0.0001616595545783639\n",
      "cgf_loss of epoch : 0.3472259044647217\n",
      "loss of epoch : 0.00017858312639873475\n",
      "Epoch 17/20\n",
      "cgf_loss of epoch : 0.3473999500274658\n",
      "loss of epoch : 0.0001935960608534515\n",
      "cgf_loss of epoch : 0.3474584221839905\n",
      "loss of epoch : 0.00019877574231941253\n",
      "cgf_loss of epoch : 0.34745246171951294\n",
      "loss of epoch : 0.00019824461196549237\n",
      "cgf_loss of epoch : 0.34739840030670166\n",
      "loss of epoch : 0.0001934597094077617\n",
      "cgf_loss of epoch : 0.34725815057754517\n",
      "loss of epoch : 0.00018131890101358294\n",
      "cgf_loss of epoch : 0.34703248739242554\n",
      "loss of epoch : 0.000162609969265759\n",
      "cgf_loss of epoch : 0.34681227803230286\n",
      "loss of epoch : 0.00014533504145219922\n",
      "cgf_loss of epoch : 0.3466297686100006\n",
      "loss of epoch : 0.0001317525893682614\n",
      "cgf_loss of epoch : 0.3464455008506775\n",
      "loss of epoch : 0.00011871512106154114\n",
      "cgf_loss of epoch : 0.346195787191391\n",
      "loss of epoch : 0.00010213088535238057\n",
      "Epoch 18/20\n",
      "cgf_loss of epoch : 0.3459424078464508\n",
      "loss of epoch : 8.657794387545437e-05\n",
      "cgf_loss of epoch : 0.3456358313560486\n",
      "loss of epoch : 6.947634392417967e-05\n",
      "cgf_loss of epoch : 0.34533679485321045\n",
      "loss of epoch : 5.460634929477237e-05\n",
      "cgf_loss of epoch : 0.3450548052787781\n",
      "loss of epoch : 4.2222462070640177e-05\n",
      "cgf_loss of epoch : 0.34484779834747314\n",
      "loss of epoch : 3.414378079469316e-05\n",
      "cgf_loss of epoch : 0.34460708498954773\n",
      "loss of epoch : 2.5827390345511958e-05\n",
      "cgf_loss of epoch : 0.34433090686798096\n",
      "loss of epoch : 1.7713271518005058e-05\n",
      "cgf_loss of epoch : 0.3440728187561035\n",
      "loss of epoch : 1.150951356976293e-05\n",
      "cgf_loss of epoch : 0.3438608944416046\n",
      "loss of epoch : 7.411482329189312e-06\n",
      "cgf_loss of epoch : 0.34364935755729675\n",
      "loss of epoch : 4.216720299154986e-06\n",
      "Epoch 19/20\n",
      "cgf_loss of epoch : 0.34346842765808105\n",
      "loss of epoch : 2.194293756474508e-06\n",
      "cgf_loss of epoch : 0.34327709674835205\n",
      "loss of epoch : 7.678551128265099e-07\n",
      "cgf_loss of epoch : 0.3431253433227539\n",
      "loss of epoch : 1.571226277974347e-07\n",
      "cgf_loss of epoch : 0.34298062324523926\n",
      "loss of epoch : 3.752553823233029e-09\n",
      "cgf_loss of epoch : 0.34284859895706177\n",
      "loss of epoch : 2.2920687570149312e-07\n",
      "cgf_loss of epoch : 0.3427311182022095\n",
      "loss of epoch : 7.229459697555285e-07\n",
      "cgf_loss of epoch : 0.34261906147003174\n",
      "loss of epoch : 1.45110163884965e-06\n",
      "cgf_loss of epoch : 0.3425179123878479\n",
      "loss of epoch : 2.324034085177118e-06\n",
      "cgf_loss of epoch : 0.3423951268196106\n",
      "loss of epoch : 3.6586520764103625e-06\n",
      "cgf_loss of epoch : 0.3423326909542084\n",
      "loss of epoch : 4.452943812793819e-06\n",
      "Epoch 20/20\n",
      "cgf_loss of epoch : 0.3422921895980835\n",
      "loss of epoch : 5.009881533624139e-06\n",
      "cgf_loss of epoch : 0.3422596752643585\n",
      "loss of epoch : 5.480729214468738e-06\n",
      "cgf_loss of epoch : 0.342229962348938\n",
      "loss of epoch : 5.9294989114278e-06\n",
      "cgf_loss of epoch : 0.3422178030014038\n",
      "loss of epoch : 6.118239525676472e-06\n",
      "cgf_loss of epoch : 0.34222298860549927\n",
      "loss of epoch : 6.037385446688859e-06\n",
      "cgf_loss of epoch : 0.34222447872161865\n",
      "loss of epoch : 6.014251539454563e-06\n",
      "cgf_loss of epoch : 0.34225064516067505\n",
      "loss of epoch : 5.615248028334463e-06\n",
      "cgf_loss of epoch : 0.34226059913635254\n",
      "loss of epoch : 5.46705905435374e-06\n",
      "cgf_loss of epoch : 0.34227433800697327\n",
      "loss of epoch : 5.26577696291497e-06\n",
      "cgf_loss of epoch : 0.34230858087539673\n",
      "loss of epoch : 4.780531526193954e-06\n"
     ]
    }
   ],
   "source": [
    "model = train_baseline_model(model, train_loader, train_total_set, config, device='cuda')"
   ]
  },
  {
   "cell_type": "code",
   "execution_count": 16,
   "id": "3e8f5878-d06f-49ce-8663-630ed022a2c7",
   "metadata": {},
   "outputs": [
    {
     "data": {
      "text/plain": [
       "'cnif_10_20.pth'"
      ]
     },
     "execution_count": 16,
     "metadata": {},
     "output_type": "execute_result"
    }
   ],
   "source": [
    "debias_method = config['debias_method']\n",
    "epochs = config['epochs']\n",
    "model_pth =  f\"{config['debias_method']}_{config['weight']}_{config['epochs']}.pth\"\n",
    "model_pth"
   ]
  },
  {
   "cell_type": "code",
   "execution_count": 17,
   "id": "416ebe2c-986b-4359-9298-36b99afc0ec1",
   "metadata": {},
   "outputs": [],
   "source": [
    "torch.save(model, saved_model_path + model_pth)"
   ]
  },
  {
   "cell_type": "code",
   "execution_count": null,
   "id": "7247cc0d-88d1-48b8-a026-6bbeabed4570",
   "metadata": {},
   "outputs": [],
   "source": []
  },
  {
   "cell_type": "code",
   "execution_count": null,
   "id": "3af4898d-ee18-4a40-adaf-7e4e49ae7cfb",
   "metadata": {},
   "outputs": [],
   "source": []
  },
  {
   "cell_type": "code",
   "execution_count": 1,
   "id": "15e6cdd0-e7aa-4489-8c9e-95d0cc3016dd",
   "metadata": {},
   "outputs": [
    {
     "name": "stdout",
     "output_type": "stream",
     "text": [
      "yes\n"
     ]
    }
   ],
   "source": [
    "if 0.0 == 0:\n",
    "    print('yes')"
   ]
  },
  {
   "cell_type": "code",
   "execution_count": null,
   "id": "4714cc6b-b231-4f4b-8f33-7676d64c1323",
   "metadata": {},
   "outputs": [],
   "source": [
    "# method : bpr 、 ips no weight\n",
    "# posneg: weight = 0.9\n",
    "# pd: 0.01\n",
    "# [0.01, 0.05, 0.1, 0.15, 0.2]\n",
    "# pearson: 0.5\n",
    "# [0.1, 0.01, 0.001, 0.0001] 0.5\n",
    "# cnif: 10.0\n",
    "# 10.0 100.0"
   ]
  },
  {
   "cell_type": "code",
   "execution_count": null,
   "id": "0a3f1033-2173-4555-8152-1a6941236aa5",
   "metadata": {},
   "outputs": [],
   "source": [
    "python drs_train.py --save=2 --dataset='kuairec_big' --algo_name='lightgcn' --debias_method='backbone' --weight=1 --gpu=0 --batch_size=8192"
   ]
  },
  {
   "cell_type": "code",
   "execution_count": null,
   "id": "baaf984c-684f-41bf-b03e-6dd893ccd8c8",
   "metadata": {},
   "outputs": [],
   "source": [
    "python drs_train.py --save=2 --dataset='steam' --algo_name='lightgcn' --debias_method='backbone' --weight=0.01 --gpu=0"
   ]
  },
  {
   "cell_type": "code",
   "execution_count": null,
   "id": "9ae332fc-595b-48d9-933f-daf84b805309",
   "metadata": {},
   "outputs": [],
   "source": [
    "python drs_train.py --save=2 --dataset='kuairec_big' --algo_name='lightgcn' --debias_method='cnif' --weight=10.0 --gpu=1"
   ]
  },
  {
   "cell_type": "code",
   "execution_count": null,
   "id": "93ca27c2-f7e9-4ff7-8fe0-314995f25c5c",
   "metadata": {},
   "outputs": [],
   "source": [
    "python drs_train.py --save=2 --dataset='kuairec' --algo_name='lightgcn' --debias_method='posneg' --weight=0.9 --gpu=1"
   ]
  },
  {
   "cell_type": "code",
   "execution_count": null,
   "id": "f060747b-74b2-4a7e-aa3b-e762b6d5717f",
   "metadata": {},
   "outputs": [],
   "source": []
  },
  {
   "cell_type": "code",
   "execution_count": null,
   "id": "35904453-0651-4239-b7a3-24d7af082344",
   "metadata": {},
   "outputs": [],
   "source": [
    "python drs-fairagent.py --save=2 --dataset='kuairec' --algo_name='mf' --alpha=3 --beta=0.1 --gama=0.1 --gpu=0 --batch_size=32768"
   ]
  },
  {
   "cell_type": "code",
   "execution_count": null,
   "id": "139a3414-43c7-4d57-a9ce-ed0c4d80d67e",
   "metadata": {},
   "outputs": [],
   "source": [
    "python drs-fairagent-final.py --save=2 --dataset='steam' --algo_name='mf' --alpha=2 --beta=0.5 --gama=0.1 --gpu=1"
   ]
  },
  {
   "cell_type": "code",
   "execution_count": null,
   "id": "dd870ad0-f89e-4ae1-b02b-c69f3f8428a4",
   "metadata": {},
   "outputs": [],
   "source": [
    "python train_aldi.py --save=1 --dataset='kuairec' --algo_name='mf' --debias_method='backbone' --gpu=1 "
   ]
  }
 ],
 "metadata": {
  "kernelspec": {
   "display_name": "Python 3 (ipykernel)",
   "language": "python",
   "name": "python3"
  },
  "language_info": {
   "codemirror_mode": {
    "name": "ipython",
    "version": 3
   },
   "file_extension": ".py",
   "mimetype": "text/x-python",
   "name": "python",
   "nbconvert_exporter": "python",
   "pygments_lexer": "ipython3",
   "version": "3.8.1"
  }
 },
 "nbformat": 4,
 "nbformat_minor": 5
}
